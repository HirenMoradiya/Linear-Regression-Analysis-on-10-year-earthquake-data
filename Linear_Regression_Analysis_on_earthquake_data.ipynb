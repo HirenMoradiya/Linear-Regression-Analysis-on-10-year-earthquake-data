{
 "cells": [
  {
   "attachments": {},
   "cell_type": "markdown",
   "id": "962dedc4-8e6d-45b0-b5ce-3f3bcbe7b7d7",
   "metadata": {
    "tags": []
   },
   "source": [
    "# Task 1 & 2: Downloading & reading the data"
   ]
  },
  {
   "cell_type": "code",
   "execution_count": null,
   "id": "5748e67c-808e-413e-835c-87ea920b8a4c",
   "metadata": {
    "tags": []
   },
   "outputs": [],
   "source": [
    "# Importing all the required libraries\n",
    "import pandas    as pd\n",
    "import numpy     as np\n",
    "import missingno as msno\n",
    "import seaborn   as sns\n",
    "import matplotlib.pyplot as plt\n",
    "import scipy.stats as ss\n",
    "\n",
    "# Reading the data into pandas dataframe\n",
    "polandData    = pd.read_csv('Poland.dat',delimiter = '|')               # 1st Data Set -> Poland"
   ]
  },
  {
   "attachments": {},
   "cell_type": "markdown",
   "id": "8c8a5c33-6911-4738-830d-4880a1761570",
   "metadata": {
    "tags": []
   },
   "source": [
    "# Task 3: Writing a class"
   ]
  },
  {
   "cell_type": "code",
   "execution_count": null,
   "id": "1ff2f25d-01d2-477e-bd21-0caafce8bc53",
   "metadata": {
    "tags": []
   },
   "outputs": [],
   "source": [
    "class earthquake:\n",
    "    def __init__(self,dfData):\n",
    "        self.dfData = dfData\n",
    "        self.arr = self.dfData.to_numpy()\n",
    "    \n",
    "    # Task 4: Function for missing data\n",
    "    def missingData(self):\n",
    "        print(self.dfData.isna().sum())\n",
    "        print(f'The total number of missing values is {self.dfData.isnull().values.sum()}')\n",
    "        msno.matrix(self.dfData, figsize = (15,5))\n",
    "    \n",
    "    # Task 5: Function to build a DF for ANN\n",
    "    def build_ANN_df(self,colList):\n",
    "        self.df = pd.DataFrame()\n",
    "        for col in colList:\n",
    "            self.df[col] = self.dfData[col]\n",
    "        return self.df\n",
    "    \n",
    "    # Task 5: Function to get a categorical column\n",
    "    def genToNum(self,col):\n",
    "        temp = self.dfData[col]\n",
    "        name = col + 'Num'\n",
    "        self.df[name] = pd.factorize(temp)[0]\n",
    "        return self.df\n",
    "    \n",
    "    # Task 5: Function to categorize data for different intervals\n",
    "    def colInterval(self,colList):\n",
    "        for col in colList:\n",
    "            maxNum = max(self.df[col])\n",
    "            name = col + 'Classified'\n",
    "            self.df[name] = self.df[col] / maxNum\n",
    "        return self.df\n",
    "    \n",
    "    # Task 6: Function to plot the 3D Scatter Plot\n",
    "    def scatterPlot(self):\n",
    "        x = self.arr[:, 2]\n",
    "        y = self.arr[:, 3]\n",
    "        z = self.arr[:, 4]\n",
    "        mag = self.arr[:,10]\n",
    "        magTyp = self.arr[:,9]\n",
    "\n",
    "        fig = plt.figure(figsize=(15,15))\n",
    "        ax = fig.add_subplot(projection='3d')\n",
    "        \n",
    "        markers = ['*', '1', '+', 's', 'x']\n",
    "        colors = ['crimson','violet','blue','cyan','darkred']\n",
    "        \n",
    "        sctt = ax.scatter(x,y,z,c=mag,s=40, marker = '.',label=\"Depth\")\n",
    "        \n",
    "        magType = self.dfData.groupby('MagType')\n",
    "        for name, group in magType:\n",
    "            for g in group.values:\n",
    "                if g[9] == 'MLv': ax.scatter(g[2],g[3],g[10],s=50,marker=markers[0],color=colors[0],label=\"MLv\")\n",
    "                if g[9] == 'M'  : ax.scatter(g[2],g[3],g[10],s=50,marker=markers[1],color=colors[1],label=\"M\")\n",
    "                if g[9] == 'mb' : ax.scatter(g[2],g[3],g[10],s=50,marker=markers[2],color=colors[2],label=\"mb\")\n",
    "                if g[9] == 'ML' : ax.scatter(g[2],g[3],g[10],s=50,marker=markers[3],color=colors[3],label=\"ML\")\n",
    "                if g[9] == 'Mw' : ax.scatter(g[2],g[3],g[10],s=50,marker=markers[4],color=colors[4],label=\"Mw\")\n",
    "                \n",
    "\n",
    "        ax.set_title('3D scatter plot for the Visualization of Earthquake')\n",
    "        ax.set_xlabel(r'Latitude ($\\degree$ degree)', fontsize=15, rotation=150)\n",
    "        ax.set_ylabel(r'Longitude ($\\degree$ degree)', fontsize=15)\n",
    "        cbar = fig.colorbar(sctt, aspect = 3)\n",
    "        cbar.set_label(\"Depth (Km)\", loc='top')\n",
    "\n",
    "        handles, labels = plt.gca().get_legend_handles_labels()\n",
    "        by_label = dict(zip(labels, handles))\n",
    "        plt.legend(by_label.values(), by_label.keys())\n",
    "\n",
    "        plt.show()\n",
    "        \n",
    "    def measureRep(self,col):\n",
    "        repetition_counts = self.dfData[col].value_counts()\n",
    "        maxRepValue = repetition_counts.idxmax()\n",
    "        maxRepCount = repetition_counts.max()\n",
    "        print(f\"The value with the maximum repetition in column '{col}' is '{maxRepValue}' with a count of {maxRepCount}.\")\n",
    "        \n",
    "        x = self.arr[:, 2]\n",
    "        y = self.arr[:, 3]\n",
    "        z = self.arr[:, 4]\n",
    "        mag = self.arr[:,10]\n",
    "        magTyp = self.arr[:,9]\n",
    "        \n",
    "        fig = plt.figure(figsize=(15,15))\n",
    "        ax = fig.add_subplot(projection='3d')\n",
    "        \n",
    "        markers = ['*', '1', '+', 's', 'x']\n",
    "        colors = ['crimson','violet','blue','cyan','darkred']\n",
    "        \n",
    "        sctt = ax.scatter(x,y,z,c=mag,s=40, marker = '.',label=\"Depth\")\n",
    "        \n",
    "        magType = self.dfData.groupby('MagType')\n",
    "        for name, group in magType:\n",
    "            for g in group.values:\n",
    "                if g[9] == maxRepValue: ax.scatter(g[2], g[3], g[10], s=50, marker='o', color='black', label=\"Highlited as it appeared max number of times\")\n",
    "                if g[9] == 'MLv': ax.scatter(g[2],g[3],g[10],s=50,marker=markers[0],color=colors[0],label=\"MLv\")\n",
    "                if g[9] == 'M'  : ax.scatter(g[2],g[3],g[10],s=50,marker=markers[1],color=colors[1],label=\"M\")\n",
    "                if g[9] == 'mb' : ax.scatter(g[2],g[3],g[10],s=50,marker=markers[2],color=colors[2],label=\"mb\")\n",
    "                if g[9] == 'ML' : ax.scatter(g[2],g[3],g[10],s=50,marker=markers[3],color=colors[3],label=\"ML\")\n",
    "                if g[9] == 'Mw' : ax.scatter(g[2],g[3],g[10],s=50,marker=markers[4],color=colors[4],label=\"Mw\")\n",
    "                    \n",
    "        ax.set_title('3D scatter plot for the Visualization of Earthquake')\n",
    "        ax.set_xlabel(r'Latitude ($\\degree$ degree)', fontsize=15, rotation=150)\n",
    "        ax.set_ylabel(r'Longitude ($\\degree$ degree)', fontsize=15)\n",
    "        cbar = fig.colorbar(sctt, aspect = 3)\n",
    "        cbar.set_label(\"Depth (Km)\", loc='top')\n",
    "\n",
    "        handles, labels = plt.gca().get_legend_handles_labels()\n",
    "        by_label = dict(zip(labels, handles))\n",
    "        plt.legend(by_label.values(), by_label.keys())\n",
    "\n",
    "        plt.show()        \n",
    "                \n",
    "    def cumulativeNum(self):\n",
    "        x = self.arr[:,10]\n",
    "        x.sort()\n",
    "        self.cumulativeDict = {}\n",
    "        \n",
    "        for i in range(len(x)):\n",
    "            val = x[i]\n",
    "            self.cumulativeDict[val] = len(x)-i\n",
    "        \n",
    "        return self.cumulativeDict\n",
    "       \n",
    "    def plotCumulative(self):\n",
    "        self.m = []\n",
    "        self.n = []\n",
    "        for j in self.cumulativeDict:\n",
    "            self.m.append(j)\n",
    "            self.n.append(self.cumulativeDict[j])\n",
    "        \n",
    "        plt.figure(figsize=(10, 8))\n",
    "        plt.scatter(self.m,np.log(self.n))\n",
    "        plt.xlabel('Magnitude')\n",
    "        plt.ylabel('Log(N)')\n",
    "        plt.show()\n",
    "        \n",
    "    def linReg(self):\n",
    "        self.xReg = np.array(self.m)\n",
    "        self.yReg = np.log(self.n)\n",
    "        result = ss.linregress(self.xReg,self.yReg)\n",
    "        self.result = np.array(result)\n",
    "        \n",
    "        return result\n",
    "        \n",
    "    def plotLinReg(self):\n",
    "        fig = plt.figure(figsize=(10,10))\n",
    "        ax = fig.add_subplot()\n",
    "        \n",
    "        y_gutenberg = self.result[0]*self.xReg + self.result[1]\n",
    "\n",
    "        ax.scatter(self.xReg,self.yReg)\n",
    "        ax.plot(self.xReg,y_gutenberg,color='black', linestyle='--', \n",
    "                label = 'Gutenberg-Richter relationship : y = {} * Magnitude + {}'.format(round(self.result[0], 2), round(self.result[1], 2)))\n",
    "        ax.set_title('Plot of Magnitude vs log(N) & linear regression ',fontsize=15)\n",
    "        ax.set_xlabel(r'Magnitude', fontsize=15)\n",
    "        ax.set_ylabel(r'Log(N)', fontsize=15)\n",
    "        ax.grid()\n",
    "        plt.legend(loc='upper right', fontsize=14)\n",
    "        plt.show()\n",
    "        \n",
    "class subearthquake(earthquake):\n",
    "    # Function which takes list of column numbers and builds a new DF with the same columns\n",
    "    def build_ANN_df(self,colList):\n",
    "        flag = True\n",
    "        \n",
    "        for val in colList:\n",
    "            flag = isinstance(val, int)\n",
    "            \n",
    "        if flag == True:\n",
    "            newdf = pd.DataFrame()\n",
    "            list(self.dfData.columns)\n",
    "            for col in colList:\n",
    "                newdf[self.dfData.columns[col]] = self.dfData.iloc[:,col]\n",
    "            return newdf\n",
    "        else:\n",
    "            print(\"***Error: Please provide a list with column numbers\")"
   ]
  },
  {
   "cell_type": "code",
   "execution_count": null,
   "id": "9ae83662-d602-4366-8b70-6616d87312c6",
   "metadata": {
    "tags": []
   },
   "outputs": [],
   "source": [
    "# Creating an instance of the class\n",
    "poland = earthquake(polandData)"
   ]
  },
  {
   "attachments": {},
   "cell_type": "markdown",
   "id": "c4cbce7b-c4a1-402f-a658-f3053a00cc40",
   "metadata": {
    "tags": []
   },
   "source": [
    "# Task 3 (Part B): Child Class and Inheritance"
   ]
  },
  {
   "cell_type": "code",
   "execution_count": null,
   "id": "58b6f364-309d-43ca-865d-a3014e4fd1e6",
   "metadata": {
    "tags": []
   },
   "outputs": [],
   "source": [
    "# Creating an instance of the child class\n",
    "polandChild = subearthquake(polandData)\n",
    "\n",
    "# Creating a list of columns numbers to be added in new df\n",
    "colNum = [2,3,4,9,10]\n",
    "\n",
    "# Calling the function which takes list of col numbers and build a new ANN\n",
    "ann = polandChild.build_ANN_df(colNum)\n",
    "ann.head(3)"
   ]
  },
  {
   "attachments": {},
   "cell_type": "markdown",
   "id": "6426d4a2-ad65-4e1f-8250-12e1510eada6",
   "metadata": {
    "tags": []
   },
   "source": [
    "# Task 4: Visualization of the missing values"
   ]
  },
  {
   "cell_type": "code",
   "execution_count": null,
   "id": "50b14dac-fd80-475b-b241-c87eb0c7ca66",
   "metadata": {
    "tags": []
   },
   "outputs": [],
   "source": [
    "# Using method 'missingData' to print & visualize the missing data at the same time \n",
    "poland.missingData()"
   ]
  },
  {
   "attachments": {},
   "cell_type": "markdown",
   "id": "cda33571-8eee-49f2-a2d5-3d2113a7970b",
   "metadata": {
    "tags": []
   },
   "source": [
    "# Task 5: Building a DF for ANN"
   ]
  },
  {
   "cell_type": "code",
   "execution_count": null,
   "id": "6779cfd1-f7c2-48f1-b531-4d17f6d6a582",
   "metadata": {
    "tags": []
   },
   "outputs": [],
   "source": [
    "# Making a list of columns needed in the DF for ANN\n",
    "col = ['Latitude','Longitude','Depth/km','Magnitude']\n",
    "\n",
    "# Using method 'build_ANN_df' to build a new DF for the ANN\n",
    "poland_ann = poland.build_ANN_df(col)\n",
    "poland_ann.head(3)"
   ]
  },
  {
   "cell_type": "code",
   "execution_count": null,
   "id": "61431742-1dcd-437c-bb83-646fd9bab02a",
   "metadata": {
    "tags": []
   },
   "outputs": [],
   "source": [
    "# Using method 'genToNum' to categarize a given column and add the categorized column to the ANN DF\n",
    "poland.genToNum('MagType')\n",
    "poland_ann.head(3)"
   ]
  },
  {
   "cell_type": "code",
   "execution_count": null,
   "id": "579dea3a-8ef2-4fa5-927a-635ef1166cc6",
   "metadata": {
    "tags": []
   },
   "outputs": [],
   "source": [
    "col = ['Latitude','Longitude','Depth/km','Magnitude']\n",
    "polandCompare = poland.colInterval(col)\n",
    "polandCompare.head(10)"
   ]
  },
  {
   "attachments": {},
   "cell_type": "markdown",
   "id": "7d331e52-f4d2-4109-a482-197ba9b6173a",
   "metadata": {
    "tags": []
   },
   "source": [
    "# Task 6: Generating 3D scatterplot"
   ]
  },
  {
   "cell_type": "code",
   "execution_count": null,
   "id": "de00c1ad-5a7c-4099-8950-da50947da1d7",
   "metadata": {
    "tags": []
   },
   "outputs": [],
   "source": [
    "poland.scatterPlot()"
   ]
  },
  {
   "attachments": {},
   "cell_type": "markdown",
   "id": "70083d9a-e758-426b-9fc1-adbe9433c9a8",
   "metadata": {
    "tags": []
   },
   "source": [
    "# Task 7: Max Repitation and highlighting it on the plot"
   ]
  },
  {
   "cell_type": "code",
   "execution_count": null,
   "id": "ff101f8d-2d25-46a8-aa6e-4342ffcf92ac",
   "metadata": {
    "tags": []
   },
   "outputs": [],
   "source": [
    "poland.measureRep('MagType')"
   ]
  },
  {
   "attachments": {},
   "cell_type": "markdown",
   "id": "3dae8ed1-33a5-4f0d-838a-ee533db68017",
   "metadata": {},
   "source": [
    "# Task 8: Calculate N as the cumulative number of earthquakes"
   ]
  },
  {
   "cell_type": "code",
   "execution_count": null,
   "id": "a10b890d-8a21-4679-99a0-33b22b45f289",
   "metadata": {
    "tags": []
   },
   "outputs": [],
   "source": [
    "x = poland.cumulativeNum()\n",
    "print(x)"
   ]
  },
  {
   "attachments": {},
   "cell_type": "markdown",
   "id": "e90a6c92-bfb0-457b-8885-a0877ab4b273",
   "metadata": {
    "tags": []
   },
   "source": [
    "# Task 9: Plotting a fig containing data points of (M,log(N))"
   ]
  },
  {
   "cell_type": "code",
   "execution_count": null,
   "id": "c1ef89ce-639e-4e84-ad9b-65266c8973cd",
   "metadata": {
    "tags": []
   },
   "outputs": [],
   "source": [
    "poland.plotCumulative()"
   ]
  },
  {
   "attachments": {},
   "cell_type": "markdown",
   "id": "06d5e086-b494-44c4-a4ab-dd8bf917f639",
   "metadata": {
    "tags": []
   },
   "source": [
    "# Task 10: Performing regression analysis available in SciPy"
   ]
  },
  {
   "cell_type": "code",
   "execution_count": null,
   "id": "13b34d62-d7bf-4120-903a-eca39701fba5",
   "metadata": {
    "tags": []
   },
   "outputs": [],
   "source": [
    "poland.linReg()"
   ]
  },
  {
   "attachments": {},
   "cell_type": "markdown",
   "id": "0ccfa9d0-705a-40c9-ae34-1444a1331f66",
   "metadata": {},
   "source": [
    "# Task 11: Plotting the fitted line on the plot of task 9"
   ]
  },
  {
   "cell_type": "code",
   "execution_count": null,
   "id": "57e8480d-c350-4f1b-a29c-ad10fdae3a0b",
   "metadata": {
    "tags": []
   },
   "outputs": [],
   "source": [
    "poland.plotLinReg()"
   ]
  },
  {
   "cell_type": "code",
   "execution_count": null,
   "id": "8a327fdd",
   "metadata": {},
   "outputs": [],
   "source": []
  }
 ],
 "metadata": {
  "kernelspec": {
   "display_name": "Python 3 (ipykernel)",
   "language": "python",
   "name": "python3"
  },
  "language_info": {
   "codemirror_mode": {
    "name": "ipython",
    "version": 3
   },
   "file_extension": ".py",
   "mimetype": "text/x-python",
   "name": "python",
   "nbconvert_exporter": "python",
   "pygments_lexer": "ipython3",
   "version": "3.10.9"
  }
 },
 "nbformat": 4,
 "nbformat_minor": 5
}
